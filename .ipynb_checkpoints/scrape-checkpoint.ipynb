{
 "cells": [
  {
   "cell_type": "code",
   "execution_count": 2,
   "id": "7168e618",
   "metadata": {},
   "outputs": [
    {
     "name": "stdout",
     "output_type": "stream",
     "text": [
      "https://www.cornerofficecfo.com/about\n",
      "https://www.cornerofficecfo.com/team\n",
      "https://www.cornerofficecfo.com/mission\n",
      "https://www.cornerofficecfo.com/faq\n",
      "https://www.cornerofficecfo.com/services\n",
      "https://www.cornerofficecfo.com/cfo\n",
      "https://www.cornerofficecfo.com/controller\n",
      "https://www.cornerofficecfo.com/accounting\n",
      "https://www.cornerofficecfo.com/training\n",
      "https://www.cornerofficecfo.com/technology\n",
      "https://www.cornerofficecfo.com/qbdesktop\n",
      "https://www.cornerofficecfo.com/appsadvisory\n",
      "https://www.cornerofficecfo.com/migration\n",
      "https://www.cornerofficecfo.com/reporting\n",
      "https://www.cornerofficecfo.com/subscriptions\n",
      "https://www.cornerofficecfo.com/careers\n",
      "https://www.cornerofficecfo.com/contact\n",
      "https://www.cornerofficecfo.com/blog\n",
      "https://www.cornerofficecfo.com/post/developing-your-post-covid-business-plan\n",
      "https://www.cornerofficecfo.com/post/cyber-security\n",
      "https://www.cornerofficecfo.com/post/dashboards-better-faster-cheaper\n"
     ]
    }
   ],
   "source": [
    "import requests\n",
    "from bs4 import BeautifulSoup\n",
    " \n",
    " \n",
    "# url = 'https://www.geeksforgeeks.org/'\n",
    "url = 'https://www.cornerofficecfo.com/'\n",
    "reqs = requests.get(url)\n",
    "soup = BeautifulSoup(reqs.text, 'html.parser')\n",
    " \n",
    "urls = []\n",
    "urls.append(url)\n",
    "\n",
    "for link in soup.find_all('a'):\n",
    "    href = link.get('href')\n",
    "    if(href is not None and url in href and href not in urls):\n",
    "        urls.append(href)\n",
    "print(urls)"
   ]
  },
  {
   "cell_type": "code",
   "execution_count": null,
   "id": "b7768819",
   "metadata": {},
   "outputs": [],
   "source": []
  }
 ],
 "metadata": {
  "kernelspec": {
   "display_name": "Python 3",
   "language": "python",
   "name": "python3"
  },
  "language_info": {
   "codemirror_mode": {
    "name": "ipython",
    "version": 3
   },
   "file_extension": ".py",
   "mimetype": "text/x-python",
   "name": "python",
   "nbconvert_exporter": "python",
   "pygments_lexer": "ipython3",
   "version": "3.8.8"
  }
 },
 "nbformat": 4,
 "nbformat_minor": 5
}
