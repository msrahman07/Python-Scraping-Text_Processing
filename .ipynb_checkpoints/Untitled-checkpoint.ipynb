{
 "cells": [
  {
   "cell_type": "code",
   "execution_count": 2,
   "id": "8a50a1a3",
   "metadata": {},
   "outputs": [
    {
     "name": "stderr",
     "output_type": "stream",
     "text": [
      "[nltk_data] Downloading package punkt to /home/shahriar/nltk_data...\n",
      "[nltk_data]   Package punkt is already up-to-date!\n",
      "[nltk_data] Downloading package stopwords to\n",
      "[nltk_data]     /home/shahriar/nltk_data...\n",
      "[nltk_data]   Package stopwords is already up-to-date!\n"
     ]
    }
   ],
   "source": [
    "import requests\n",
    "from bs4 import BeautifulSoup\n",
    "import nltk\n",
    "from nltk.tokenize import word_tokenize\n",
    "from nltk.corpus import stopwords\n",
    "nltk.download('punkt')\n",
    "nltk.download('stopwords')\n",
    "from collections import Counter\n",
    "    \n",
    "URL = \"https://www.geeksforgeeks.org/data-structures/\"\n",
    "req = requests.get(URL)\n",
    "#print(req.content)\n",
    "soup = BeautifulSoup(req.content, 'html5lib')\n",
    "#print(soup.prettify())"
   ]
  },
  {
   "cell_type": "code",
   "execution_count": null,
   "id": "f40896dd",
   "metadata": {},
   "outputs": [],
   "source": []
  },
  {
   "cell_type": "code",
   "execution_count": 3,
   "id": "3b7b4134",
   "metadata": {},
   "outputs": [],
   "source": [
    "def process_html(url):\n",
    "    req = requests.get(url)\n",
    "    html = req.content\n",
    "    soup = BeautifulSoup(html, \"html.parser\")\n",
    "    \n",
    "    for data in soup(['style', 'script']):\n",
    "        data.decompose()\n",
    "        \n",
    "    return ' '.join(soup.stripped_strings)"
   ]
  },
  {
   "cell_type": "code",
   "execution_count": 4,
   "id": "266bdacb",
   "metadata": {},
   "outputs": [],
   "source": [
    "# text = process_html(\"https://goodle.com\")"
   ]
  },
  {
   "cell_type": "code",
   "execution_count": 49,
   "id": "0a3ec5eb",
   "metadata": {},
   "outputs": [],
   "source": [
    "def tokenzie_text(text):\n",
    "    tokenizer = nltk.RegexpTokenizer(r\"\\w+\")\n",
    "    words = tokenizer.tokenize(text)\n",
    "    stop_words = stopwords.words('english')\n",
    "    removing_stop_words = [w.lower() for w in words if w.lower() not in stop_words]\n",
    "    tokens = [t.lemma_ for t in removing_stop_words]\n",
    "    return tokens"
   ]
  },
  {
   "cell_type": "code",
   "execution_count": 39,
   "id": "93525792",
   "metadata": {},
   "outputs": [],
   "source": [
    "def word_count_json(url):\n",
    "    text = process_html(url)\n",
    "    num_words = {}\n",
    "    words = tokenzie_text(text)\n",
    "    counts = Counter(words)\n",
    "    for w in words:\n",
    "        num_words[w] = counts[w]\n",
    "\n",
    "    print(num_words)\n",
    "    \n",
    "    sorted_dict = {}\n",
    "    sorted_keys = sorted(num_words, key=num_words.get, reverse=True)  # [1, 3, 2]\n",
    "\n",
    "    for w in sorted_keys:\n",
    "        sorted_dict[w] = num_words[w]\n",
    "\n",
    "\n",
    "    return sorted_dict, ' '.join(words)"
   ]
  },
  {
   "cell_type": "code",
   "execution_count": 7,
   "id": "57e2a9a1",
   "metadata": {},
   "outputs": [],
   "source": [
    "def scrape_for_all_links(url):\n",
    "    reqs = requests.get(url)\n",
    "    soup = BeautifulSoup(reqs.text, 'html.parser')\n",
    "    allText = []\n",
    "    urls = []\n",
    "    allText.append(process_html(url))\n",
    "    urls.append(url)\n",
    "\n",
    "    for link in soup.find_all('a'):\n",
    "        href = link.get('href')\n",
    "        if(href is not None and url in href and href not in urls):\n",
    "            urls.append(href)\n",
    "            print(href)\n",
    "            allText.append(process_html(href))\n",
    "    \n",
    "    text = ' '.join(allText)\n",
    "    num_words = {}\n",
    "    words = tokenzie_text(text)\n",
    "    counts = Counter(words)\n",
    "    for w in words:\n",
    "        num_words[w] = counts[w]\n",
    "\n",
    "    sorted_dict = {}\n",
    "    sorted_keys = sorted(num_words, key=num_words.get, reverse=True)  # [1, 3, 2]\n",
    "\n",
    "    for w in sorted_keys:\n",
    "        sorted_dict[w] = num_words[w]\n",
    "\n",
    "    return sorted_dict"
   ]
  },
  {
   "cell_type": "code",
   "execution_count": 8,
   "id": "feb92526",
   "metadata": {},
   "outputs": [
    {
     "name": "stdout",
     "output_type": "stream",
     "text": [
      "https://www.cornerofficecfo.com/about\n",
      "https://www.cornerofficecfo.com/team\n",
      "https://www.cornerofficecfo.com/mission\n",
      "https://www.cornerofficecfo.com/faq\n",
      "https://www.cornerofficecfo.com/services\n",
      "https://www.cornerofficecfo.com/cfo\n",
      "https://www.cornerofficecfo.com/controller\n",
      "https://www.cornerofficecfo.com/accounting\n",
      "https://www.cornerofficecfo.com/training\n",
      "https://www.cornerofficecfo.com/technology\n",
      "https://www.cornerofficecfo.com/qbdesktop\n",
      "https://www.cornerofficecfo.com/appsadvisory\n",
      "https://www.cornerofficecfo.com/migration\n",
      "https://www.cornerofficecfo.com/reporting\n",
      "https://www.cornerofficecfo.com/subscriptions\n",
      "https://www.cornerofficecfo.com/careers\n",
      "https://www.cornerofficecfo.com/contact\n",
      "https://www.cornerofficecfo.com/blog\n",
      "https://www.cornerofficecfo.com/post/developing-your-post-covid-business-plan\n",
      "https://www.cornerofficecfo.com/post/cyber-security\n",
      "https://www.cornerofficecfo.com/post/dashboards-better-faster-cheaper\n",
      "{'services': 182, 'us': 109, 'accounting': 93, 'office': 89, 'corner': 86, 'business': 79, 'free': 54, 'training': 53, 'dashboards': 50, 'technology': 49, 'subscriptions': 49, 'contact': 48, 'faq': 47, 'data': 45, 'team': 44, 'trials': 44, 'financial': 42, 'time': 37, 'cfo': 36, 'regina': 35, 'apps': 35, 'quickbooks': 34, 'work': 32, 'controller': 30, 'company': 30, 'help': 29, 'sk': 29, 'use': 28, 'cloud': 28, 'cornerofficecfo': 28, 'com': 28, 'reporting': 27, 'review': 27, 'get': 26, 'new': 26, 'advisory': 25, 'migration': 25, 'blog': 25, 'log': 25, 'mission': 24, 'vision': 24, 'careers': 24, '4': 24, 'additional': 24, '0': 23, '14': 23, '3710': 23, 'eastgate': 23, 'dr': 23, 's4z': 23, '1a5': 23, '306': 23, '775': 23, '0110': 23, 'info': 23, 'courses': 23, 'submit': 23, 'thanks': 23, 'home': 22, 'tab': 22, 'navigate': 22, 'menu': 22, 'items': 22, 'based': 22, 'mon': 22, 'fri': 22, '9am': 22, '30pm': 22, 'resources': 22, 'worked': 22, 'write': 22, 'submitting': 22, 'website': 22, 'experience': 22, 'make': 21, 'information': 18, 'payroll': 18, 'plan': 17, 'future': 17, 'min': 17, 'comments': 17, 'provide': 16, 'important': 16, 'professional': 15, 'businesses': 15, 'tools': 15, 'give': 14, 'right': 14, 'many': 14, '2021': 14, 'management': 13, 'let': 13, 'post': 13, 'one': 13, 'dext': 13, 'like': 13, 'ability': 13, 'better': 12, 'clients': 12, 'way': 12, 'using': 12, 'faster': 11, 'software': 11, 'aspects': 11, '30': 11, 'decisions': 10, 'cpa': 10, 'expertise': 10, 'connect': 10, 'security': 10, 'know': 10, 'storage': 10, 'growing': 10, 'junior': 10, 'trial': 9, 'learn': 9, '3': 9, 'support': 9, 'great': 9, 'service': 9, 'also': 9, 'best': 9, 'reports': 9, 'dashboard': 9, 'pandemic': 9, 'expert': 8, 'consulting': 8, 'owners': 8, 'experts': 8, 'start': 8, 'developing': 8, 'safe': 8, 'knowledge': 8, 'saskatchewan': 8, 'trust': 8, 'technologies': 8, 'part': 8, 'small': 8, 'organization': 8, 'life': 8, 'please': 8, 'may': 8, 'qualifications': 8, 'needs': 7, 'love': 7, 'day': 7, 'house': 7, 'ready': 7, 'meeting': 7, 'going': 7, 'president': 7, 'cheaper': 7, 'take': 7, 'money': 7, 'companies': 7, 'touch': 7, 'online': 7, 'place': 7, 'world': 7, 'setup': 7, 'might': 7, 'skills': 7, 'working': 7, 'marked': 6, 'liked': 6, 'much': 6, 'need': 6, 'trends': 6, 'efficient': 6, 'job': 6, 'could': 6, 'firm': 6, 'associate': 6, 'looking': 6, 'around': 6, 'questions': 6, 'variety': 6, 'professionals': 6, 'would': 6, 'vital': 6, 'wide': 6, 'easy': 6, 'times': 6, 'search': 6, 'balance': 6, 'current': 6, 'full': 6, 'client': 6, 'applications': 6, 'behaviours': 6, 'people': 6, 'market': 6, 'analysis': 6, 'finance': 5, 'advice': 5, 'effective': 5, 'grow': 5, 'owner': 5, 'complex': 5, 'every': 5, 'engineering': 5, 'cyber': 5, 'access': 5, 'learning': 5, 'save': 5, 'creating': 5, 'corporate': 5, 'customers': 5, 'responsible': 5, 'understanding': 5, 'basis': 5, 'processes': 5, 'send': 5, 'strong': 5, 'next': 5, 'level': 5, 'intelligence': 5, 'range': 5, 'able': 5, 'accountant': 5, 'providing': 5, 'profit': 5, 'resume': 5, 'news': 5, '2020': 5, 'goals': 5, 'behaviour': 5, 'see': 5, 'receipt': 4, 'step': 4, 'first': 4, '2': 4, 'sure': 4, 'ensure': 4, 'look': 4, 'covid': 4, 'assistance': 4, 'always': 4, 'top': 4, 'specific': 4, 'already': 4, 'done': 4, 'well': 4, 'senior': 4, 'together': 4, 'opportunities': 4, 'manual': 4, 'solid': 4, 'implement': 4, 'automation': 4, 'oriented': 4, 'monthly': 4, 'development': 4, 'cpas': 4, 'back': 4, 'relationships': 4, 'credibility': 4, 'easier': 4, 'today': 4, 'subscription': 4, 'solutions': 4, 'keep': 4, 'different': 4, 'change': 4, 'lot': 4, 'continue': 4, 'benefits': 4, 'details': 4, 'whether': 4, 'key': 4, 'report': 4, 'date': 4, 'view': 4, 'track': 4, 'add': 4, 'assignments': 4, 'interested': 4, 'sourced': 4, 'searching': 4, 'private': 4, 'sector': 4, 'describes': 4, 'cover': 4, 'letter': 4, 'outlining': 4, 'hr': 4, 'thrives': 4, 'believes': 4, 'posting': 4, 'excellent': 4, 'communication': 4, 'confidential': 4, 'multiple': 4, 'customer': 4, 'focused': 4, 'deadlines': 4, 'tight': 4, 'education': 4, 'environment': 4, 'developer': 4, 'read': 4, 'posts': 4, 'local': 4, '5': 4, 'uncertainty': 4, 'consider': 4, 'kpis': 4, 'indicators': 4, 'wrong': 4, 'accurate': 3, 'systems': 3, 'limited': 3, 'gain': 3, 'financials': 3, 'flow': 3, 'contract': 3, 'short': 3, 'video': 3, 'hard': 3, 'affect': 3, 'things': 3, 'crucial': 3, 'cutting': 3, 'edge': 3, 'efficiency': 3, '1': 3, 'want': 3, 'suggest': 3, 'move': 3, 'allows': 3, 'rockford': 3, 'problem': 3, 'goal': 3, 'succeed': 3, 'ahead': 3, 'speed': 3, 'priority': 3, 'system': 3, 'implementing': 3, 'common': 3, 'specialists': 3, 'connected': 3, 'tax': 3, 'specialist': 3, 'pcp': 3, 'technician': 3, 'create': 3, 'answers': 3, 'successful': 3, 'identify': 3, 'improve': 3, 'finances': 3, 'run': 3, 'oversight': 3, 'share': 3, 'eliminate': 3, 'filings': 3, 'bookkeeping': 3, 'gst': 3, 'pst': 3, 'year': 3, 'month': 3, 'role': 3, 'changing': 3, 'artificial': 3, 'years': 3, 'secure': 3, 'go': 3, 'desktop': 3, 'maybe': 3, 'spreadsheet': 3, 'analyzing': 3, 'mobile': 3, 'sync': 3, 'practices': 3, 'visual': 3, 'big': 3, 'documents': 3, 'account': 3, 'store': 3, 'unlimited': 3, 'career': 3, 'idea': 3, 'meet': 3, 'diverse': 3, 'occupations': 3, 'industries': 3, 'relationship': 3, 'building': 3, 'develop': 3, 'discrete': 3, 'manage': 3, 'priorities': 3, 'effectively': 3, 'prioritize': 3, 'members': 3, 'managing': 3, 'organized': 3, 'independently': 3, 'frequent': 3, 'timelines': 3, 'canadian': 3, 'combination': 3, 'simply': 3, 'proficient': 3, 'applying': 3, 'employees': 3, 'research': 3, 'analytics': 3, 'arrow': 3, 'amp': 3, 'v': 3, 'apr': 3, 'long': 3, 'difficult': 3, 'ways': 3, 'often': 3, 'ship': 3, 'affected': 3, 'exactly': 3, 'likely': 3, 'performance': 3, 'potential': 3, 'yqr': 3, 'views': 3, 'storing': 3, 'quickly': 3, 'gas': 3, 'act': 3, 'something': 3, 'happening': 3, 'leading': 3, 'strategic': 2, 'tracking': 2, 'struggle': 2, 'cash': 2, 'growth': 2, 'related': 2, 'consuming': 2, 'running': 2, 'necessary': 2, 'even': 2, 'streamline': 2, 'availability': 2, 'proposal': 2, 'partner': 2, 'critical': 2, 'forward': 2, 'really': 2, 'partners': 2, 'think': 2, 'insight': 2, 'entrepreneurial': 2, 'partnership': 2, 'without': 2, 'flexible': 2, 'little': 2, 'game': 2, 'policies': 2, 'two': 2, 'tailor': 2, 'suit': 2, 'perform': 2, 'registered': 2, 'certified': 2, 'accountants': 2, 'cma': 2, 'exceptionally': 2, 'managed': 2, 'value': 2, 'success': 2, 'reliable': 2, 'deliver': 2, 'stop': 2, 'ideas': 2, 'methods': 2, 'passion': 2, 'shows': 2, 'receive': 2, 'achieve': 2, 'foundation': 2, 'rock': 2, 'button': 2, 'medium': 2, 'cost': 2, 'decision': 2, 'monitoring': 2, 'financing': 2, 'sales': 2, 'kpi': 2, 'projects': 2, 'implementation': 2, 'controllers': 2, 'effort': 2, 'integrate': 2, 'outsourced': 2, 'statements': 2, 'train': 2, 'staff': 2, 'assess': 2, 'compliance': 2, 'regulatory': 2, 'numbers': 2, 'getting': 2, 'offer': 2, 'tech': 2, 'paperwork': 2, 'platforms': 2, 'stakeholders': 2, 'appropriate': 2, 'payables': 2, 'lct': 2, 'filing': 2, 'wait': 2, 'quicker': 2, 'course': 2, 'ever': 2, 'sound': 2, 'pair': 2, 'exciting': 2, 'bank': 2, 'paperless': 2, 'tasks': 2, 'still': 2, 'leave': 2, 'moving': 2, 'fill': 2, 'app': 2, 'sort': 2, 'jump': 2, 'try': 2, 'analyze': 2, 'focus': 2, 'visualization': 2, 'receipts': 2, 'upload': 2, 'directly': 2, 'suppliers': 2, 'immediately': 2, 'process': 2, 'dig': 2, 'makes': 2, 'busy': 2, '200': 2, 'optional': 2, 'select': 2, 'initial': 2, 'qb': 2, 'syncing': 2, '300': 2, 'guide': 2, 'days': 2, 'require': 2, 'adapt': 2, 'excited': 2, 'position': 2, 'relevant': 2, 'partnerships': 2, 'detail': 2, 'good': 2, 'equivalent': 2, 'preparing': 2, 'reconciliations': 2, 'degree': 2, 'preference': 2, 'given': 2, 'administration': 2, 'annual': 2, 'abilities': 2, 'asset': 2, 'existing': 2, 'programming': 2, 'updating': 2, 'python': 2, 'powerbi': 2, 'following': 2, 'shortly': 2, 'revenue': 2, 'type': 2, 'aug': 2, 'proactive': 2, '26': 2, 'question': 2, 'talking': 2, 'quick': 2, 'bitstrata': 2, 'ian': 2, 'meier': 2, 'ceo': 2, 'feb': 2, 'prairie': 2, 'lithium': 2, 'zach': 2, 'maurer': 2, 'helped': 2, 'jan': 2, 'dec': 2, '31': 2, 'provides': 2, '13': 2, 'planning': 2, 'leeann': 2, 'fast': 2, '2019': 2, 'sexual': 2, 'assault': 2, 'centre': 2, 'lisa': 2, 'miller': 2, 'skye': 2, 'cafe': 2, 'bistro': 2, 'milton': 2, 'massive': 2, 'bogged': 2, 'lies': 2, 'considering': 2, 'human': 2, 'normal': 2, 'deeper': 2, 'competitors': 2, 'drive': 2, 'psychological': 2, 'driving': 2, 'forces': 2, 'ask': 2, 'convenient': 2, 'potentially': 2, 'strategy': 2, 'keeping': 2, 'sounds': 2, 'updated': 2, 'problems': 2, 'answer': 2, 'certain': 2, 'servers': 2, 'reputable': 2, 'lead': 2, 'rely': 2, 'incredibly': 2, 'becoming': 2, 'increasingly': 2, 'say': 2, 'spreadsheets': 2, 'automated': 2, 'constantly': 2, 'basically': 2, 'vehicle': 2, 'keeps': 2, 'anything': 2, 'positive': 2, 'reviews': 2, 'indicator': 2, 'tool': 2, 'empowering': 1, 'confident': 1, 'bookmark': 1, 'control': 1, 'informed': 1, 'envisioning': 1, 'stress': 1, 'inaccurate': 1, 'outdated': 1, 'ownership': 1, 'constant': 1, 'rollercoaster': 1, 'ups': 1, 'downs': 1, 'thousand': 1, 'ally': 1, 'sounding': 1, 'board': 1, 'consultant': 1, 'tough': 1, 'situations': 1, 'helping': 1, 'equipped': 1, 'prioritizes': 1, 'call': 1, 'hear': 1, 'complimentary': 1, 'steps': 1, 'actions': 1, 'direction': 1, 'discuss': 1, 'page': 1, 'final': 1, 'draft': 1, 'brought': 1, 'clarity': 1, 'supplied': 1, 'powerful': 1, 'helps': 1, 'actual': 1, 'barry': 1, 'burt': 1, 'principle': 1, 'solvers': 1, 'true': 1, 'counselors': 1, 'math': 1, 'feedback': 1, 'confidence': 1, 'endeavour': 1, 'gives': 1, 'employ': 1, 'mind': 1, 'reach': 1, 'newest': 1, 'regulations': 1, 'suits': 1, 'protection': 1, 'backups': 1, 'nightly': 1, 'strict': 1, 'privacy': 1, 'confidentiality': 1, 'undertake': 1, 'strategies': 1, 'ok': 1, 'trusted': 1, 'valuation': 1, 'legal': 1, 'benefit': 1, 'connection': 1, 'fully': 1, 'insured': 1, 'governed': 1, 'crma': 1, 'analyst': 1, 'bba': 1, 'pmp': 1, 'assistant': 1, 'administrator': 1, 'values': 1, 'quality': 1, 'strive': 1, 'premium': 1, 'outstanding': 1, 'collaboration': 1, 'collective': 1, 'strength': 1, 'integral': 1, 'accountability': 1, 'word': 1, 'integrity': 1, 'honesty': 1, 'central': 1, 'everything': 1, 'innovation': 1, 'never': 1, 'entrepreneurship': 1, 'leaders': 1, 'asked': 1, 'enjoy': 1, 'opportunity': 1, 'results': 1, 'assist': 1, 'required': 1, 'outcome': 1, 'along': 1, 'reduce': 1, 'increase': 1, 'q': 1, 'thing': 1, 'giving': 1, 'extremely': 1, 'tackle': 1, 'forecasting': 1, 'budgets': 1, 'forecasts': 1, 'proposals': 1, 'cases': 1, 'foreign': 1, 'exchange': 1, 'hedging': 1, 'e': 1, 'commerce': 1, 'erp': 1, 'costs': 1, 'banking': 1, 'pos': 1, 'practice': 1, 'possible': 1, 'accuracy': 1, 'bookkeepers': 1, 'parts': 1, 'closely': 1, 'worries': 1, 'resembling': 1, 'mature': 1, 'corporations': 1, 'automate': 1, 'simplify': 1, 'transparency': 1, 'fingertips': 1, 'close': 1, 'virtual': 1, 'receivables': 1, 'payments': 1, 'instalments': 1, 'end': 1, 'preparation': 1, 'profitable': 1, 'upcoming': 1, 'events': 1, 'moment': 1, 'bonus': 1, 'offering': 1, 'includes': 1, 'favourite': 1, 'robots': 1, 'present': 1, 'reliably': 1, 'humans': 1, 'overwhelming': 1, 'intimidating': 1, 'trustworthy': 1, 'names': 1, 'note': 1, 'disclaimers': 1, 'figure': 1, 'claiming': 1, 'must': 1, 'haves': 1, 'ones': 1, 'researched': 1, 'tested': 1, 'implemented': 1, 'collect': 1, 'eliminating': 1, 'instance': 1, 'sheets': 1, 'riddled': 1, 'errors': 1, 'mileage': 1, 'hope': 1, 'options': 1, 'feeling': 1, 'paralyzed': 1, 'homework': 1, 'package': 1, 'greatly': 1, 'fetch': 1, 'categorise': 1, 'reconciliation': 1, 'fraction': 1, 'familiarize': 1, 'advising': 1, 'outfitted': 1, 'talk': 1, 'advance': 1, 'transition': 1, 'reduced': 1, 'overhead': 1, 'collecting': 1, 'operations': 1, 'solely': 1, 'pages': 1, 'dull': 1, 'maintaining': 1, 'upon': 1, 'standard': 1, 'allow': 1, 'broad': 1, 'displayed': 1, 'measures': 1, 'display': 1, 'occurring': 1, 'organizations': 1, 'alike': 1, 'trend': 1, 'impacting': 1, 'negatively': 1, 'positively': 1, 'noticed': 1, 'collected': 1, 'rather': 1, 'single': 1, 'bigger': 1, 'picture': 1, 'activities': 1, 'click': 1, '1400': 1, 'entry': 1, 'invoices': 1, 'record': 1, 'item': 1, 'real': 1, 'advanced': 1, 'functions': 1, 'endless': 1, 'boxes': 1, 'paper': 1, 'integrates': 1, 'plans': 1, 'users': 1, 'scans': 1, 'syncs': 1, 'qbonline': 1, 'integration': 1, 'qbdesktop': 1, 'instruction': 1, 'billed': 1, 'features': 1, 'accounts': 1, 'creditcard': 1, 'cancel': 1, 'rapidly': 1, 'firms': 1, 'fair': 1, 'compensation': 1, 'schedule': 1, 'rocketing': 1, 'heights': 1, 'though': 1, 'passionate': 1, 'believe': 1, 'nothing': 1, 'facet': 1, 'economy': 1, 'province': 1, 'experienced': 1, 'postings': 1, 'leader': 1, 'manages': 1, 'engagements': 1, 'delivers': 1, 'promise': 1, 'constructive': 1, 'guidance': 1, 'designation': 1, 'chartered': 1, 'standing': 1, 'registration': 1, 'candidate': 1, 'minimum': 1, 'four': 1, 'extensive': 1, 'assets': 1, 'liabilities': 1, 'deliverables': 1, 'include': 1, 'recording': 1, 'transactions': 1, 'assisting': 1, 'sheet': 1, 'diploma': 1, 'aspirations': 1, 'large': 1, 'base': 1, 'joining': 1, 'individual': 1, 'peak': 1, 'processing': 1, 'hires': 1, 'terminations': 1, 'rate': 1, 'changes': 1, 'direct': 1, 'deposits': 1, 'deductions': 1, 'pension': 1, 't4s': 1, 'addition': 1, 'prepare': 1, 'wage': 1, 'accruals': 1, 'hourly': 1, 'salaried': 1, 'reconcile': 1, 'vacation': 1, 'amounts': 1, 'detailed': 1, 'comfortable': 1, 'applicants': 1, 'offered': 1, 'employment': 1, 'combined': 1, 'acquisition': 1, 'association': 1, 'certification': 1, 'practitioner': 1, 'familiar': 1, 'culture': 1, 'internal': 1, 'maintenance': 1, 'deployments': 1, 'involved': 1, 'introduction': 1, 'innovative': 1, 'technical': 1, 'capabilities': 1, 'form': 1, 'proof': 1, 'concepts': 1, 'pilot': 1, 'suite': 1, 'bachelor': 1, 'computer': 1, 'science': 1, 'english': 1, 'verbal': 1, 'written': 1, 'desire': 1, 'object': 1, 'relational': 1, 'databases': 1, 'familiarity': 1, 'query': 1, 'exposure': 1, 'languages': 1, 'n': 1, 'agile': 1, 'methodologies': 1, 'capability': 1, 'reviewing': 1, 'documentation': 1, 'github': 1, 'understand': 1, 'structure': 1, 'json': 1, 'basic': 1, 'sql': 1, 'considered': 1, 'vba': 1, 'dax': 1, 'packages': 1, 'requests': 1, 'flask': 1, 'pyqt': 1, 'powershell': 1, 'scripting': 1, 'email': 1, 'phone': 1, 'appointment': 1, 'visit': 1, 'controllership': 1, 'indirect': 1, 'explain': 1, 'sign': 1, 'riding': 1, 'roller': 1, 'coaster': 1, 'co': 1, 'founded': 1, '2012': 1, 'michael': 1, 'lockerbie': 1, 'started': 1, 'devices': 1, 'mar': 1, 'energy': 1, 'outsourcing': 1, '11': 1, 'discusses': 1, 'since': 1, 'serious': 1, 'streamlining': 1, 'tedious': 1, 'harnessing': 1, 'heading': 1, 'head': 1, 'express': 1, 'deep': 1, 'gratitude': 1, 'spent': 1, '20': 1, 'valuing': 1, 'industrial': 1, 'machine': 1, 'design': 1, 'peek': 1, 'bev': 1, 'betteridge': 1, 'talks': 1, 'types': 1, '24': 1, '6': 1, '1080': 1, 'architecture': 1, 'croft': 1, 'tells': 1, 'taking': 1, 'proud': 1, '7': 1, 'executive': 1, 'director': 1, 'non': 1, 'strives': 1, 'meaningful': 1, 'impact': 1, 'oct': 1, '29': 1, 'rebello': 1, 'louise': 1, 'entrepreneurs': 1, 'driven': 1, 'caught': 1, 'emerge': 1, 'predict': 1, 'mean': 1, 'impossible': 1, 'feel': 1, 'captaining': 1, 'grey': 1, 'fog': 1, 'ambiguity': 1, 'lighthouse': 1, 'shore': 1, 'chance': 1, 'safety': 1, 'profits': 1, 'areas': 1, 'set': 1, 'apart': 1, 'goods': 1, 'taken': 1, 'depend': 1, 'majority': 1, 'model': 1, 'behind': 1, 'consumer': 1, 'circumstances': 1, 'influence': 1, 'transformed': 1, 'result': 1, 'completely': 1, 'refrain': 1, 'seem': 1, 'risky': 1, 'alternatives': 1, 'product': 1, 'arisen': 1, 'permanent': 1, 'influenced': 1, 'motivating': 1, 'desperate': 1, 'assessed': 1, 'shown': 1, 'increased': 1, 'demand': 1, 'agility': 1, 'adaptability': 1, 'traits': 1, 'flourish': 1, 'setting': 1, 'actually': 1, 'laid': 1, 'diving': 1, 'stay': 1, 'tuned': 1, 'continually': 1, 'tracks': 1, 'seriously': 1, 'order': 1, 'demands': 1, 'afloat': 1, 'situation': 1, 'offers': 1, 'affordable': 1, 'cfos': 1, 'wasting': 1, 'dime': 1, 'pounce': 1, 'fresh': 1, 'eyes': 1, 'someone': 1, 'truths': 1, 'vitally': 1, 'captain': 1, 'mate': 1, 'happy': 1, 'cashflow': 1, 'nonprofit': 1, 'planner': 1, '27': 1, 'complicated': 1, 'overwhelmed': 1, 'comes': 1, 'everyone': 1, 'likes': 1, 'stored': 1, 'across': 1, 'subjected': 1, 'laws': 1, 'rightfully': 1, 'scary': 1, 'introduce': 1, 'toolkit': 1, 'hosted': 1, 'host': 1, 'utilize': 1, 'amazon': 1, 'web': 1, 'aws': 1, 'microsoft': 1, 'azure': 1, 'standards': 1, 'follow': 1, 'listed': 1, 'breaches': 1, 'ultimately': 1, 'fact': 1, 'safer': 1, 'less': 1, 'vulnerable': 1, 'traditional': 1, 'exploitation': 1, 'attacks': 1, 'viruses': 1, 'revolutionary': 1, 'groundbreaking': 1, 'statistics': 1, 'stolen': 1, 'misplaced': 1, 'undoing': 1, 'latest': 1, 'anti': 1, 'virus': 1, 'patches': 1, 'windows': 1, 'updates': 1, 'testing': 1, 'password': 1, 'remember': 1, 'weakest': 1, 'link': 1, 'build': 1, 'marketplace': 1, 'hacking': 1, 'intuit': 1, 'national': 1, 'canada': 1, 'capital': 1, 'highly': 1, 'provider': 1, 'evaluating': 1, 'convenience': 1, 'king': 1, 'projecting': 1, 'huge': 1, 'uptick': 1, 'industry': 1, 'adoption': 1, 'provided': 1, 'scaling': 1, 'adaptable': 1, 'connectivity': 1, 'means': 1, 'goodbye': 1, 'nights': 1, 'trying': 1, 'combine': 1, 'sources': 1, 'repetitive': 1, 'fields': 1, 'become': 1, 'easily': 1, 'worrying': 1, 'consolidated': 1, 'immediate': 1, 'wherever': 1, 'waiting': 1, 'internet': 1, 'financially': 1, 'lookout': 1, 'advantages': 1, 'computing': 1, 'jul': 1, 'constructed': 1, 'found': 1, 'objectives': 1, 'presentation': 1, 'named': 1, 'vehicles': 1, 'relay': 1, 'road': 1, 'trip': 1, 'pop': 1, 'hood': 1, 'enough': 1, 'wild': 1, 'guess': 1, 'limit': 1, 'fix': 1, 'filling': 1, 'easing': 1, 'pedal': 1, 'alert': 1, 'attention': 1, 'unlike': 1, 'show': 1, 'judge': 1, 'outlook': 1, 'en': 1, 'route': 1, 'achieving': 1, 'example': 1, 'series': 1, 'signal': 1, 'greater': 1, 'satisfaction': 1, 'came': 1, 'source': 1, 'aspect': 1, 'previously': 1, 'untapped': 1, 'generally': 1, 'known': 1, 'lagging': 1, 'pretty': 1, 'bottom': 1, 'line': 1, 'utilizing': 1, 'requires': 1, 'longer': 1, 'find': 1, 'away': 1, 'begin': 1, 'focussing': 1, 'remedy': 1, 'extra': 1, 'labour': 1, 'used': 1, 'consistently': 1, 'changer': 1, 'sometimes': 1, 'sift': 1, 'car': 1, 'diagnostic': 1, 'telling': 1, 'oil': 1, 'customized': 1, 'minute': 1, 'metrics': 1, 'tell': 1, 'else': 1, 'catch': 1, 'early': 1, 'built': 1, 'accessible': 1, 'location': 1, 'representation': 1, 'saves': 1, 'flipping': 1, 'comparing': 1, 'put': 1, 'front': 1, 'compare': 1, 'insights': 1, 'consolidating': 1, 'tons': 1, 'waste': 1, 'employee': 1, 'sifting': 1, 'duties': 1, 'valuable': 1, 'scraping': 1, 'bad': 1, 'hassle': 1, 'automatically': 1, 'update': 1, 'frees': 1, 'savings': 1, 'harder': 1, 'quantify': 1, 'recognize': 1, 'sooner': 1, 'minimize': 1, 'losses': 1, 'mitigate': 1, 'negative': 1, 'tip': 1, 'gains': 1, 'plus': 1, 'flag': 1, 'issues': 1, 'advantage': 1, 'revolutionize': 1, 'project': 1}\n"
     ]
    }
   ],
   "source": [
    "print(scrape_for_all_links('https://www.cornerofficecfo.com/'))"
   ]
  },
  {
   "cell_type": "code",
   "execution_count": 9,
   "id": "df449aca",
   "metadata": {},
   "outputs": [],
   "source": [
    "stop_words = stopwords.words('english')"
   ]
  },
  {
   "cell_type": "code",
   "execution_count": 10,
   "id": "4c206f2e",
   "metadata": {},
   "outputs": [
    {
     "data": {
      "text/plain": [
       "['i',\n",
       " 'me',\n",
       " 'my',\n",
       " 'myself',\n",
       " 'we',\n",
       " 'our',\n",
       " 'ours',\n",
       " 'ourselves',\n",
       " 'you',\n",
       " \"you're\",\n",
       " \"you've\",\n",
       " \"you'll\",\n",
       " \"you'd\",\n",
       " 'your',\n",
       " 'yours',\n",
       " 'yourself',\n",
       " 'yourselves',\n",
       " 'he',\n",
       " 'him',\n",
       " 'his',\n",
       " 'himself',\n",
       " 'she',\n",
       " \"she's\",\n",
       " 'her',\n",
       " 'hers',\n",
       " 'herself',\n",
       " 'it',\n",
       " \"it's\",\n",
       " 'its',\n",
       " 'itself',\n",
       " 'they',\n",
       " 'them',\n",
       " 'their',\n",
       " 'theirs',\n",
       " 'themselves',\n",
       " 'what',\n",
       " 'which',\n",
       " 'who',\n",
       " 'whom',\n",
       " 'this',\n",
       " 'that',\n",
       " \"that'll\",\n",
       " 'these',\n",
       " 'those',\n",
       " 'am',\n",
       " 'is',\n",
       " 'are',\n",
       " 'was',\n",
       " 'were',\n",
       " 'be',\n",
       " 'been',\n",
       " 'being',\n",
       " 'have',\n",
       " 'has',\n",
       " 'had',\n",
       " 'having',\n",
       " 'do',\n",
       " 'does',\n",
       " 'did',\n",
       " 'doing',\n",
       " 'a',\n",
       " 'an',\n",
       " 'the',\n",
       " 'and',\n",
       " 'but',\n",
       " 'if',\n",
       " 'or',\n",
       " 'because',\n",
       " 'as',\n",
       " 'until',\n",
       " 'while',\n",
       " 'of',\n",
       " 'at',\n",
       " 'by',\n",
       " 'for',\n",
       " 'with',\n",
       " 'about',\n",
       " 'against',\n",
       " 'between',\n",
       " 'into',\n",
       " 'through',\n",
       " 'during',\n",
       " 'before',\n",
       " 'after',\n",
       " 'above',\n",
       " 'below',\n",
       " 'to',\n",
       " 'from',\n",
       " 'up',\n",
       " 'down',\n",
       " 'in',\n",
       " 'out',\n",
       " 'on',\n",
       " 'off',\n",
       " 'over',\n",
       " 'under',\n",
       " 'again',\n",
       " 'further',\n",
       " 'then',\n",
       " 'once',\n",
       " 'here',\n",
       " 'there',\n",
       " 'when',\n",
       " 'where',\n",
       " 'why',\n",
       " 'how',\n",
       " 'all',\n",
       " 'any',\n",
       " 'both',\n",
       " 'each',\n",
       " 'few',\n",
       " 'more',\n",
       " 'most',\n",
       " 'other',\n",
       " 'some',\n",
       " 'such',\n",
       " 'no',\n",
       " 'nor',\n",
       " 'not',\n",
       " 'only',\n",
       " 'own',\n",
       " 'same',\n",
       " 'so',\n",
       " 'than',\n",
       " 'too',\n",
       " 'very',\n",
       " 's',\n",
       " 't',\n",
       " 'can',\n",
       " 'will',\n",
       " 'just',\n",
       " 'don',\n",
       " \"don't\",\n",
       " 'should',\n",
       " \"should've\",\n",
       " 'now',\n",
       " 'd',\n",
       " 'll',\n",
       " 'm',\n",
       " 'o',\n",
       " 're',\n",
       " 've',\n",
       " 'y',\n",
       " 'ain',\n",
       " 'aren',\n",
       " \"aren't\",\n",
       " 'couldn',\n",
       " \"couldn't\",\n",
       " 'didn',\n",
       " \"didn't\",\n",
       " 'doesn',\n",
       " \"doesn't\",\n",
       " 'hadn',\n",
       " \"hadn't\",\n",
       " 'hasn',\n",
       " \"hasn't\",\n",
       " 'haven',\n",
       " \"haven't\",\n",
       " 'isn',\n",
       " \"isn't\",\n",
       " 'ma',\n",
       " 'mightn',\n",
       " \"mightn't\",\n",
       " 'mustn',\n",
       " \"mustn't\",\n",
       " 'needn',\n",
       " \"needn't\",\n",
       " 'shan',\n",
       " \"shan't\",\n",
       " 'shouldn',\n",
       " \"shouldn't\",\n",
       " 'wasn',\n",
       " \"wasn't\",\n",
       " 'weren',\n",
       " \"weren't\",\n",
       " 'won',\n",
       " \"won't\",\n",
       " 'wouldn',\n",
       " \"wouldn't\"]"
      ]
     },
     "execution_count": 10,
     "metadata": {},
     "output_type": "execute_result"
    }
   ],
   "source": [
    "stop_words"
   ]
  },
  {
   "cell_type": "code",
   "execution_count": 11,
   "id": "8d2a1fd9",
   "metadata": {},
   "outputs": [],
   "source": [
    "article = process_html(\"https://www.geeksforgeeks.org/deploy-python-flask-app-on-heroku/\")"
   ]
  },
  {
   "cell_type": "code",
   "execution_count": 44,
   "id": "a794742d",
   "metadata": {},
   "outputs": [],
   "source": [
    "def create_wordcloud(texts):\n",
    "    resp = requests.post('https://quickchart.io/wordcloud', json={\n",
    "        'format': 'png',\n",
    "        'width': 500,\n",
    "        'height': 500,\n",
    "        'fontScale': 15,\n",
    "        'scale': 'linear',\n",
    "        'removeStopwords': True,\n",
    "        'minWordLength': 4,\n",
    "        'text': texts,\n",
    "    })\n",
    "    with open('static/newscloud.png', 'wb') as f:\n",
    "        f.write(resp.content)"
   ]
  },
  {
   "cell_type": "code",
   "execution_count": 45,
   "id": "fd2434e7",
   "metadata": {},
   "outputs": [
    {
     "name": "stdout",
     "output_type": "stream",
     "text": [
      "{'google': 2, 'search': 2, 'images': 1, 'maps': 1, 'play': 1, 'youtube': 1, 'news': 1, 'gmail': 1, 'drive': 1, 'web': 1, 'history': 1, 'settings': 1, 'sign': 1, 'advanced': 1, 'advertising': 1, 'programs': 1, 'business': 1, 'solutions': 1, '2022': 1, 'privacy': 1, 'terms': 1}\n"
     ]
    }
   ],
   "source": [
    "result, texts = word_count_json(\"https://www.google.com/\")"
   ]
  },
  {
   "cell_type": "code",
   "execution_count": 46,
   "id": "f861d847",
   "metadata": {},
   "outputs": [
    {
     "data": {
      "text/plain": [
       "'google search images maps play youtube news gmail drive web history settings sign advanced search advertising programs business solutions google 2022 privacy terms'"
      ]
     },
     "execution_count": 46,
     "metadata": {},
     "output_type": "execute_result"
    }
   ],
   "source": [
    "texts.lower()"
   ]
  },
  {
   "cell_type": "code",
   "execution_count": 48,
   "id": "2e8c3ef3",
   "metadata": {},
   "outputs": [],
   "source": [
    "create_wordcloud(texts.lower())"
   ]
  },
  {
   "cell_type": "code",
   "execution_count": 38,
   "id": "21266fd5",
   "metadata": {},
   "outputs": [
    {
     "data": {
      "text/plain": [
       "['google',\n",
       " 'search',\n",
       " 'images',\n",
       " 'maps',\n",
       " 'play',\n",
       " 'youtube',\n",
       " 'news',\n",
       " 'gmail',\n",
       " 'drive',\n",
       " 'web',\n",
       " 'history',\n",
       " 'settings',\n",
       " 'sign',\n",
       " 'advanced',\n",
       " 'search',\n",
       " 'advertising',\n",
       " 'programs',\n",
       " 'business',\n",
       " 'solutions',\n",
       " 'google',\n",
       " '2022',\n",
       " 'privacy',\n",
       " 'terms']"
      ]
     },
     "execution_count": 38,
     "metadata": {},
     "output_type": "execute_result"
    }
   ],
   "source": [
    "tokenzie_text(texts)"
   ]
  },
  {
   "cell_type": "code",
   "execution_count": null,
   "id": "5f80e5c8",
   "metadata": {},
   "outputs": [],
   "source": []
  }
 ],
 "metadata": {
  "kernelspec": {
   "display_name": "Python 3",
   "language": "python",
   "name": "python3"
  },
  "language_info": {
   "codemirror_mode": {
    "name": "ipython",
    "version": 3
   },
   "file_extension": ".py",
   "mimetype": "text/x-python",
   "name": "python",
   "nbconvert_exporter": "python",
   "pygments_lexer": "ipython3",
   "version": "3.8.8"
  }
 },
 "nbformat": 4,
 "nbformat_minor": 5
}
