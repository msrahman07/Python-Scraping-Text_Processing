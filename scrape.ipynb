{
 "cells": [
  {
   "cell_type": "code",
   "execution_count": 3,
   "id": "7168e618",
   "metadata": {},
   "outputs": [
    {
     "name": "stdout",
     "output_type": "stream",
     "text": [
      "['https://www.cornerofficecfo.com/', 'https://www.cornerofficecfo.com/about', 'https://www.cornerofficecfo.com/team', 'https://www.cornerofficecfo.com/mission', 'https://www.cornerofficecfo.com/faq', 'https://www.cornerofficecfo.com/services', 'https://www.cornerofficecfo.com/cfo', 'https://www.cornerofficecfo.com/controller', 'https://www.cornerofficecfo.com/accounting', 'https://www.cornerofficecfo.com/training', 'https://www.cornerofficecfo.com/technology', 'https://www.cornerofficecfo.com/qbdesktop', 'https://www.cornerofficecfo.com/appsadvisory', 'https://www.cornerofficecfo.com/migration', 'https://www.cornerofficecfo.com/reporting', 'https://www.cornerofficecfo.com/subscriptions', 'https://www.cornerofficecfo.com/careers', 'https://www.cornerofficecfo.com/contact', 'https://www.cornerofficecfo.com/blog', 'https://www.cornerofficecfo.com/post/developing-your-post-covid-business-plan', 'https://www.cornerofficecfo.com/post/cyber-security', 'https://www.cornerofficecfo.com/post/dashboards-better-faster-cheaper']\n"
     ]
    }
   ],
   "source": [
    "import requests\n",
    "from bs4 import BeautifulSoup\n",
    " \n",
    " \n",
    "# url = 'https://www.geeksforgeeks.org/'\n",
    "url = 'https://www.cornerofficecfo.com/'\n",
    "reqs = requests.get(url)\n",
    "soup = BeautifulSoup(reqs.text, 'html.parser')\n",
    " \n",
    "urls = []\n",
    "urls.append(url)\n",
    "\n",
    "for link in soup.find_all('a'):\n",
    "    href = link.get('href')\n",
    "    if(href is not None and url in href and href not in urls):\n",
    "        urls.append(href)\n",
    "print(urls)"
   ]
  },
  {
   "cell_type": "code",
   "execution_count": 5,
   "id": "b7768819",
   "metadata": {},
   "outputs": [
    {
     "data": {
      "text/plain": [
       "'https://www.cornerofficecfo.com/ https://www.cornerofficecfo.com/about https://www.cornerofficecfo.com/team https://www.cornerofficecfo.com/mission https://www.cornerofficecfo.com/faq https://www.cornerofficecfo.com/services https://www.cornerofficecfo.com/cfo https://www.cornerofficecfo.com/controller https://www.cornerofficecfo.com/accounting https://www.cornerofficecfo.com/training https://www.cornerofficecfo.com/technology https://www.cornerofficecfo.com/qbdesktop https://www.cornerofficecfo.com/appsadvisory https://www.cornerofficecfo.com/migration https://www.cornerofficecfo.com/reporting https://www.cornerofficecfo.com/subscriptions https://www.cornerofficecfo.com/careers https://www.cornerofficecfo.com/contact https://www.cornerofficecfo.com/blog https://www.cornerofficecfo.com/post/developing-your-post-covid-business-plan https://www.cornerofficecfo.com/post/cyber-security https://www.cornerofficecfo.com/post/dashboards-better-faster-cheaper'"
      ]
     },
     "execution_count": 5,
     "metadata": {},
     "output_type": "execute_result"
    }
   ],
   "source": [
    "' '.join(urls)"
   ]
  },
  {
   "cell_type": "code",
   "execution_count": 6,
   "id": "4d0ee7a7",
   "metadata": {},
   "outputs": [],
   "source": [
    "result = ' '.join(urls)"
   ]
  },
  {
   "cell_type": "code",
   "execution_count": 7,
   "id": "1e26ad25",
   "metadata": {},
   "outputs": [
    {
     "data": {
      "text/plain": [
       "'https://www.cornerofficecfo.com/ https://www.cornerofficecfo.com/about https://www.cornerofficecfo.com/team https://www.cornerofficecfo.com/mission https://www.cornerofficecfo.com/faq https://www.cornerofficecfo.com/services https://www.cornerofficecfo.com/cfo https://www.cornerofficecfo.com/controller https://www.cornerofficecfo.com/accounting https://www.cornerofficecfo.com/training https://www.cornerofficecfo.com/technology https://www.cornerofficecfo.com/qbdesktop https://www.cornerofficecfo.com/appsadvisory https://www.cornerofficecfo.com/migration https://www.cornerofficecfo.com/reporting https://www.cornerofficecfo.com/subscriptions https://www.cornerofficecfo.com/careers https://www.cornerofficecfo.com/contact https://www.cornerofficecfo.com/blog https://www.cornerofficecfo.com/post/developing-your-post-covid-business-plan https://www.cornerofficecfo.com/post/cyber-security https://www.cornerofficecfo.com/post/dashboards-better-faster-cheaper'"
      ]
     },
     "execution_count": 7,
     "metadata": {},
     "output_type": "execute_result"
    }
   ],
   "source": [
    "result"
   ]
  },
  {
   "cell_type": "code",
   "execution_count": null,
   "id": "f0fcad36",
   "metadata": {},
   "outputs": [],
   "source": []
  }
 ],
 "metadata": {
  "kernelspec": {
   "display_name": "Python 3",
   "language": "python",
   "name": "python3"
  },
  "language_info": {
   "codemirror_mode": {
    "name": "ipython",
    "version": 3
   },
   "file_extension": ".py",
   "mimetype": "text/x-python",
   "name": "python",
   "nbconvert_exporter": "python",
   "pygments_lexer": "ipython3",
   "version": "3.8.8"
  }
 },
 "nbformat": 4,
 "nbformat_minor": 5
}
