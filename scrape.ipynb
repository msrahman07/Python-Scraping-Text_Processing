{
 "cells": [
  {
   "cell_type": "code",
   "execution_count": 3,
   "id": "7168e618",
   "metadata": {},
   "outputs": [
    {
     "name": "stdout",
     "output_type": "stream",
     "text": [
      "['https://www.cornerofficecfo.com/', 'https://www.cornerofficecfo.com/about', 'https://www.cornerofficecfo.com/team', 'https://www.cornerofficecfo.com/mission', 'https://www.cornerofficecfo.com/faq', 'https://www.cornerofficecfo.com/services', 'https://www.cornerofficecfo.com/cfo', 'https://www.cornerofficecfo.com/controller', 'https://www.cornerofficecfo.com/accounting', 'https://www.cornerofficecfo.com/training', 'https://www.cornerofficecfo.com/technology', 'https://www.cornerofficecfo.com/qbdesktop', 'https://www.cornerofficecfo.com/appsadvisory', 'https://www.cornerofficecfo.com/migration', 'https://www.cornerofficecfo.com/reporting', 'https://www.cornerofficecfo.com/subscriptions', 'https://www.cornerofficecfo.com/careers', 'https://www.cornerofficecfo.com/contact', 'https://www.cornerofficecfo.com/blog', 'https://www.cornerofficecfo.com/post/developing-your-post-covid-business-plan', 'https://www.cornerofficecfo.com/post/cyber-security', 'https://www.cornerofficecfo.com/post/dashboards-better-faster-cheaper']\n"
     ]
    }
   ],
   "source": [
    "import requests\n",
    "from bs4 import BeautifulSoup\n",
    " \n",
    " \n",
    "# url = 'https://www.geeksforgeeks.org/'\n",
    "url = 'https://www.cornerofficecfo.com/'\n",
    "reqs = requests.get(url)\n",
    "soup = BeautifulSoup(reqs.text, 'html.parser')\n",
    " \n",
    "urls = []\n",
    "urls.append(url)\n",
    "\n",
    "for link in soup.find_all('a'):\n",
    "    href = link.get('href')\n",
    "    if(href is not None and url in href and href not in urls):\n",
    "        urls.append(href)\n",
    "print(urls)"
   ]
  },
  {
   "cell_type": "code",
   "execution_count": 4,
   "id": "b7768819",
   "metadata": {},
   "outputs": [
    {
     "data": {
      "text/plain": [
       "'https://www.cornerofficecfo.com/ https://www.cornerofficecfo.com/about https://www.cornerofficecfo.com/team https://www.cornerofficecfo.com/mission https://www.cornerofficecfo.com/faq https://www.cornerofficecfo.com/services https://www.cornerofficecfo.com/cfo https://www.cornerofficecfo.com/controller https://www.cornerofficecfo.com/accounting https://www.cornerofficecfo.com/training https://www.cornerofficecfo.com/technology https://www.cornerofficecfo.com/qbdesktop https://www.cornerofficecfo.com/appsadvisory https://www.cornerofficecfo.com/migration https://www.cornerofficecfo.com/reporting https://www.cornerofficecfo.com/subscriptions https://www.cornerofficecfo.com/careers https://www.cornerofficecfo.com/contact https://www.cornerofficecfo.com/blog https://www.cornerofficecfo.com/post/developing-your-post-covid-business-plan https://www.cornerofficecfo.com/post/cyber-security https://www.cornerofficecfo.com/post/dashboards-better-faster-cheaper'"
      ]
     },
     "execution_count": 4,
     "metadata": {},
     "output_type": "execute_result"
    }
   ],
   "source": [
    "' '.join(urls)"
   ]
  },
  {
   "cell_type": "code",
   "execution_count": 5,
   "id": "4d0ee7a7",
   "metadata": {},
   "outputs": [],
   "source": [
    "result = ' '.join(urls)"
   ]
  },
  {
   "cell_type": "code",
   "execution_count": 6,
   "id": "1e26ad25",
   "metadata": {},
   "outputs": [
    {
     "data": {
      "text/plain": [
       "'https://www.cornerofficecfo.com/ https://www.cornerofficecfo.com/about https://www.cornerofficecfo.com/team https://www.cornerofficecfo.com/mission https://www.cornerofficecfo.com/faq https://www.cornerofficecfo.com/services https://www.cornerofficecfo.com/cfo https://www.cornerofficecfo.com/controller https://www.cornerofficecfo.com/accounting https://www.cornerofficecfo.com/training https://www.cornerofficecfo.com/technology https://www.cornerofficecfo.com/qbdesktop https://www.cornerofficecfo.com/appsadvisory https://www.cornerofficecfo.com/migration https://www.cornerofficecfo.com/reporting https://www.cornerofficecfo.com/subscriptions https://www.cornerofficecfo.com/careers https://www.cornerofficecfo.com/contact https://www.cornerofficecfo.com/blog https://www.cornerofficecfo.com/post/developing-your-post-covid-business-plan https://www.cornerofficecfo.com/post/cyber-security https://www.cornerofficecfo.com/post/dashboards-better-faster-cheaper'"
      ]
     },
     "execution_count": 6,
     "metadata": {},
     "output_type": "execute_result"
    }
   ],
   "source": [
    "result"
   ]
  },
  {
   "cell_type": "code",
   "execution_count": 7,
   "id": "f0fcad36",
   "metadata": {},
   "outputs": [],
   "source": [
    "import requests"
   ]
  },
  {
   "cell_type": "code",
   "execution_count": 8,
   "id": "ef6da35f",
   "metadata": {},
   "outputs": [
    {
     "name": "stdout",
     "output_type": "stream",
     "text": [
      "{\"message\":\"You are not subscribed to this API.\"}\n"
     ]
    }
   ],
   "source": [
    "url = \"https://textvis-word-cloud-v1.p.rapidapi.com/v1/textToCloud\"\n",
    "\n",
    "payload = {\n",
    "    \"text\": \"This is a test. I repeat, this is a test. We are only testing the functionality of this api, nothing else. End of test.\",\n",
    "    \"scale\": 0.5,\n",
    "    \"width\": 400,\n",
    "    \"height\": 400,\n",
    "    \"colors\": [\"#375E97\", \"#FB6542\", \"#FFBB00\", \"#3F681C\"],\n",
    "    \"font\": \"Tahoma\",\n",
    "    \"use_stopwords\": True,\n",
    "    \"language\": \"en\",\n",
    "    \"uppercase\": False\n",
    "}\n",
    "headers = {\n",
    "    \"content-type\": \"application/json\",\n",
    "    \"X-RapidAPI-Host\": \"textvis-word-cloud-v1.p.rapidapi.com\",\n",
    "    \"X-RapidAPI-Key\": \"b0d92546a3mshb8fc89080b63a59p168d30jsn8f970b3384d2\"\n",
    "}\n",
    "\n",
    "response = requests.request(\"POST\", url, json=payload, headers=headers)\n",
    "\n",
    "print(response.text)"
   ]
  },
  {
   "cell_type": "code",
   "execution_count": 21,
   "id": "761a370a",
   "metadata": {},
   "outputs": [],
   "source": [
    "def create_wordcloud(texts):\n",
    "    resp = requests.post('https://quickchart.io/wordcloud', json={\n",
    "        'format': 'png',\n",
    "        'width': 500,\n",
    "        'height': 500,\n",
    "        'fontScale': 15,\n",
    "        'scale': 'linear',\n",
    "        'removeStopwords': True,\n",
    "        'minWordLength': 4,\n",
    "        'text': texts,\n",
    "    })\n",
    "    with open('newscloud.png', 'wb') as f:\n",
    "        f.write(resp.content)"
   ]
  },
  {
   "cell_type": "code",
   "execution_count": 22,
   "id": "1eb88420",
   "metadata": {},
   "outputs": [],
   "source": [
    "create_wordcloud(result)"
   ]
  },
  {
   "cell_type": "code",
   "execution_count": 14,
   "id": "0d259df3",
   "metadata": {},
   "outputs": [
    {
     "data": {
      "text/plain": [
       "'https://www.cornerofficecfo.com/ https://www.cornerofficecfo.com/about https://www.cornerofficecfo.com/team https://www.cornerofficecfo.com/mission https://www.cornerofficecfo.com/faq https://www.cornerofficecfo.com/services https://www.cornerofficecfo.com/cfo https://www.cornerofficecfo.com/controller https://www.cornerofficecfo.com/accounting https://www.cornerofficecfo.com/training https://www.cornerofficecfo.com/technology https://www.cornerofficecfo.com/qbdesktop https://www.cornerofficecfo.com/appsadvisory https://www.cornerofficecfo.com/migration https://www.cornerofficecfo.com/reporting https://www.cornerofficecfo.com/subscriptions https://www.cornerofficecfo.com/careers https://www.cornerofficecfo.com/contact https://www.cornerofficecfo.com/blog https://www.cornerofficecfo.com/post/developing-your-post-covid-business-plan https://www.cornerofficecfo.com/post/cyber-security https://www.cornerofficecfo.com/post/dashboards-better-faster-cheaper'"
      ]
     },
     "execution_count": 14,
     "metadata": {},
     "output_type": "execute_result"
    }
   ],
   "source": [
    "result"
   ]
  },
  {
   "cell_type": "code",
   "execution_count": 18,
   "id": "8de72893",
   "metadata": {},
   "outputs": [],
   "source": [
    "result = 'google search images maps play youtube news gmail drive more web history | settings | sign in advanced search helpful tips to fact check information online advertising programs business solutions about google 2022 - privacy - terms'"
   ]
  },
  {
   "cell_type": "code",
   "execution_count": 19,
   "id": "0fb7da4b",
   "metadata": {},
   "outputs": [
    {
     "data": {
      "text/plain": [
       "'google search images maps play youtube news gmail drive more web history | settings | sign in advanced search helpful tips to fact check information online advertising programs business solutions about google 2022 - privacy - terms'"
      ]
     },
     "execution_count": 19,
     "metadata": {},
     "output_type": "execute_result"
    }
   ],
   "source": [
    "result"
   ]
  },
  {
   "cell_type": "code",
   "execution_count": 20,
   "id": "439e666e",
   "metadata": {},
   "outputs": [],
   "source": [
    "create_wordcloud(result)"
   ]
  },
  {
   "cell_type": "code",
   "execution_count": null,
   "id": "3fce834f",
   "metadata": {},
   "outputs": [],
   "source": []
  }
 ],
 "metadata": {
  "kernelspec": {
   "display_name": "Python 3",
   "language": "python",
   "name": "python3"
  },
  "language_info": {
   "codemirror_mode": {
    "name": "ipython",
    "version": 3
   },
   "file_extension": ".py",
   "mimetype": "text/x-python",
   "name": "python",
   "nbconvert_exporter": "python",
   "pygments_lexer": "ipython3",
   "version": "3.8.8"
  }
 },
 "nbformat": 4,
 "nbformat_minor": 5
}
